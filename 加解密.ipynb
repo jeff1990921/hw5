{
  "nbformat": 4,
  "nbformat_minor": 0,
  "metadata": {
    "colab": {
      "name": "加解密.ipynb",
      "provenance": []
    },
    "kernelspec": {
      "name": "python3",
      "display_name": "Python 3"
    }
  },
  "cells": [
    {
      "cell_type": "markdown",
      "metadata": {
        "id": "8pmsq5-3nGte",
        "colab_type": "text"
      },
      "source": [
        "將字串加密成數字以及解密"
      ]
    },
    {
      "cell_type": "code",
      "metadata": {
        "id": "m_BuCoM5nBZX",
        "colab_type": "code",
        "colab": {}
      },
      "source": [
        "def encode(s):\n",
        "  result = ''\n",
        "  for c in s:\n",
        "    result += f'{ord(c)-97},'\n",
        "  return result[:-1]\n",
        "def decode(s):\n",
        "  result = ''\n",
        "  for c in s.split(','):\n",
        "    result += f'{chr(int(c)+97)}'\n",
        "  return result"
      ],
      "execution_count": 0,
      "outputs": []
    },
    {
      "cell_type": "code",
      "metadata": {
        "id": "2dPWAhnBnxKj",
        "colab_type": "code",
        "outputId": "f5fdc328-26bb-41a5-e22c-d5892b7f1f34",
        "colab": {
          "base_uri": "https://localhost:8080/",
          "height": 68
        }
      },
      "source": [
        "s = 'hello world'\n",
        "print('original:',s)\n",
        "encoded = encode(s)\n",
        "print('encoded:',encoded)\n",
        "decoded = decode(encoded)\n",
        "print('decoded:',decoded)"
      ],
      "execution_count": 0,
      "outputs": [
        {
          "output_type": "stream",
          "text": [
            "original: hello world\n",
            "encoded: 7,4,11,11,14,-65,22,14,17,11,3\n",
            "decoded: hello world\n"
          ],
          "name": "stdout"
        }
      ]
    }
  ]
}